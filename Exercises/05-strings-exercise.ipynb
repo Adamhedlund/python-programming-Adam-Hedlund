{
 "cells": [
  {
   "cell_type": "markdown",
   "metadata": {},
   "source": [
    "<a href=\"https://colab.research.google.com/github/pr0fez/AI24-Programmering/blob/master/Exercises/05-strings-exercise.ipynb\" target=\"_parent\"><img align=\"left\" src=\"https://colab.research.google.com/assets/colab-badge.svg\" alt=\"Open In Colab\"/></a> &nbsp; to see hints and answers."
   ]
  },
  {
   "cell_type": "markdown",
   "metadata": {},
   "source": [
    "# strings exercises\n",
    "\n",
    "---\n",
    "These are introductory exercises in Python with focus in **strings**.\n",
    "\n",
    "<p class = \"alert alert-info\" role=\"alert\"><b>Remember</b> to use <b>descriptive variable names</b> in order to get readable code </p>\n",
    "\n",
    "<p class = \"alert alert-info\" role=\"alert\"><b>Remember</b> to format your answers in a neat way using <b>f-strings</b>\n",
    "\n",
    "<p class = \"alert alert-info\" role=\"alert\"><b>Remember</b> to format your input questions in a pedagogical way to guide the user\n",
    "\n",
    "The number of stars (\\*), (\\*\\*), (\\*\\*\\*) denotes the difficulty level of the task\n",
    "\n",
    "---"
   ]
  },
  {
   "cell_type": "markdown",
   "metadata": {},
   "source": [
    "## 1. Counting letters (*)\n",
    "\n",
    "Let the user input a word: \n",
    "\n",
    "&nbsp; a) &nbsp; print out the number of letters in the word. (*) \n",
    "  \n",
    "&nbsp; b) &nbsp; print out the number of **uppercase** and **lowercase** letters of the word (*)   \n"
   ]
  },
  {
   "cell_type": "code",
   "execution_count": 17,
   "metadata": {},
   "outputs": [
    {
     "name": "stdout",
     "output_type": "stream",
     "text": [
      "Antalet bokstäver i ordet: hejsan är 6!\n"
     ]
    }
   ],
   "source": [
    "#Uppgift A\n",
    "\n",
    "ord = input(\"Skriv in ett ord: \")\n",
    "print(f\"Antalet bokstäver i ordet: {ord} är {len(ord)}!\")\n"
   ]
  },
  {
   "cell_type": "code",
   "execution_count": 20,
   "metadata": {},
   "outputs": [
    {
     "name": "stdout",
     "output_type": "stream",
     "text": [
      "JASDMeasdas innehåller 5 stor(a) och 6 små bokstäver.\n"
     ]
    }
   ],
   "source": [
    "#Uppgift B\n",
    "\n",
    "ord = input(\"Skriv in ett ord: \")\n",
    "versaler = 0\n",
    "gemener = 0\n",
    "\n",
    "for bokstav in ord:\n",
    "    if bokstav.isupper():\n",
    "        versaler += 1\n",
    "    elif bokstav.islower():\n",
    "        gemener += 1\n",
    "\n",
    "print(f\"{ord} innehåller {versaler} stor(a) och {gemener} små bokstäver.\")"
   ]
  },
  {
   "cell_type": "markdown",
   "metadata": {},
   "source": [
    "---\n",
    "## 2. Counting words (*)\n",
    "\n",
    "Count the number of words in this sentence: \"A picture says more than a thousand words, a matematical formula says more than a thousand pictures.\" (*) \n",
    "\n",
    "<details>\n",
    "\n",
    "<summary>Answer</summary>\n",
    "\n",
    "```\n",
    "There are 17 words in that sentence\n",
    "```"
   ]
  },
  {
   "cell_type": "code",
   "execution_count": 25,
   "metadata": {},
   "outputs": [
    {
     "name": "stdout",
     "output_type": "stream",
     "text": [
      "There is 17 words in the sentence!\n"
     ]
    }
   ],
   "source": [
    "sentence = \"A picture says more than a thousand words, a matematical formula says more than a thousand pictures.\"\n",
    "words = sentence.split()\n",
    "\n",
    "print(f\"There is {len(words)} words in the sentence!\")"
   ]
  },
  {
   "cell_type": "markdown",
   "metadata": {},
   "source": [
    "---\n",
    "## 3. Palindrome (*)\n",
    "\n",
    "A palindrome is a sequence of characters that is the same, when read forward as backwards (ignoring spaces). For example:\n",
    "- \"Anna\" is a palindrome\n",
    "- \"Ni talar bra latin\"\n",
    "- bjkjb \n",
    "\n",
    "Let the user input a sequence of characters and check if it is a palindrome. (*)"
   ]
  },
  {
   "cell_type": "code",
   "execution_count": 29,
   "metadata": {},
   "outputs": [
    {
     "name": "stdout",
     "output_type": "stream",
     "text": [
      "apa är ett palindrom\n"
     ]
    }
   ],
   "source": [
    "sequence = input(\"Skriv in textrad för att kontrollera ifall det är ett palindrom: \")\n",
    "sequence = sequence.lower()\n",
    "\n",
    "if sequence == sequence[::-1]:\n",
    "    print(f\"{sequence} är ett palindrom\")\n",
    "else:\n",
    "    print(f\"{sequence} är inte ett palindrom\")\n"
   ]
  },
  {
   "cell_type": "markdown",
   "metadata": {},
   "source": [
    "---\n",
    "## 4. Vowels (**)\n",
    "\n",
    "Count the number of vowels in this sentence: \"Pure mathematics is, in its way, the poetry of logical ideas\"\n",
    "\n",
    "<details>\n",
    "\n",
    "<summary>Answer</summary>\n",
    "\n",
    "```\n",
    "\n",
    "There are 22 vowels in this sentence\n",
    "\n",
    "```\n",
    "</details>"
   ]
  },
  {
   "cell_type": "code",
   "execution_count": 33,
   "metadata": {},
   "outputs": [
    {
     "name": "stdout",
     "output_type": "stream",
     "text": [
      "Number of vowels in text :Pure mathematics is, in its way, the poetry of logical ideas is, 22!\n"
     ]
    }
   ],
   "source": [
    "numberOfVowels = 0\n",
    "vowels = \"aeiouy\"\n",
    "text = \"Pure mathematics is, in its way, the poetry of logical ideas\"\n",
    "\n",
    "for letter in text.lower():\n",
    "    if letter in vowels:\n",
    "        numberOfVowels +=1\n",
    "\n",
    "print(f\"Number of vowels in text :{text} is, {numberOfVowels}!\")"
   ]
  },
  {
   "cell_type": "markdown",
   "metadata": {},
   "source": [
    "---\n",
    "## 5. Encryption (**)\n",
    "\n",
    "Let the user input a word and: \n",
    "\n",
    "&nbsp; a) &nbsp; encrypt the message by replacing each letter with the next letter. If the letter is in the end of the alphabet, use the first letter instead. \n",
    "\n",
    "e.g. in Swedish: \"höst\" $\\rightarrow$ \"iatu\"\n",
    "\n",
    "&nbsp; b) &nbsp; decrypt the message\n",
    "\n",
    "&nbsp; c) &nbsp; let the user choose either encryption or decryption."
   ]
  },
  {
   "cell_type": "code",
   "execution_count": 39,
   "metadata": {},
   "outputs": [
    {
     "name": "stdout",
     "output_type": "stream",
     "text": [
      "adamö blir bebna efter kryptering!\n"
     ]
    }
   ],
   "source": [
    "#Uppgift A\n",
    "\n",
    "alphabet = \"abcdefghijklmnopqrstuvwxyzåäö\"\n",
    "password = input(\"Skriv in ett lösenord: \")\n",
    "encryption = \"\"\n",
    "\n",
    "for letter in password:\n",
    "    if letter in alphabet:\n",
    "        index = alphabet.index(letter)\n",
    "        new_index = (index + 1) % len(alphabet)\n",
    "        encryption += alphabet[new_index]\n",
    "\n",
    "    else:\n",
    "        encryption += letter\n",
    "\n",
    "print(f\"{password} blir {encryption} efter kryptering!\")"
   ]
  },
  {
   "cell_type": "code",
   "execution_count": 40,
   "metadata": {},
   "outputs": [
    {
     "name": "stdout",
     "output_type": "stream",
     "text": [
      "adam blir öcöl efter dekryptering!\n"
     ]
    }
   ],
   "source": [
    "#Uppgift B\n",
    "\n",
    "alphabet = \"abcdefghijklmnopqrstuvwxyzåäö\"\n",
    "password = input(\"Skriv in ett lösenord: \")\n",
    "encryption = \"\"\n",
    "\n",
    "for letter in password:\n",
    "    if letter in alphabet:\n",
    "        index = alphabet.index(letter)\n",
    "        new_index = (index -1) % len(alphabet)\n",
    "        encryption += alphabet[new_index]\n",
    "\n",
    "    else:\n",
    "        encryption += letter\n",
    "\n",
    "print(f\"{password} blir {encryption} efter dekryptering!\")"
   ]
  },
  {
   "cell_type": "code",
   "execution_count": 67,
   "metadata": {},
   "outputs": [
    {
     "name": "stdout",
     "output_type": "stream",
     "text": [
      "bebis blir adahr efter dekryptering!\n"
     ]
    }
   ],
   "source": [
    "#Uppgift C\n",
    "\n",
    "def kryptera(password):\n",
    "    alphabet = \"abcdefghijklmnopqrstuvwxyzåäö\"\n",
    "    encryption = \"\"\n",
    "\n",
    "    for letter in password:\n",
    "        if letter in alphabet:\n",
    "            index = alphabet.index(letter)\n",
    "            new_index = (index + 1) % len(alphabet)\n",
    "            encryption += alphabet[new_index]\n",
    "\n",
    "        else:\n",
    "            encryption += letter\n",
    "\n",
    "    return encryption\n",
    "\n",
    "def dekryptera(password):\n",
    "    alphabet = \"abcdefghijklmnopqrstuvwxyzåäö\"\n",
    "    decryption = \"\"\n",
    "\n",
    "    for letter in password:\n",
    "        if letter in alphabet:\n",
    "            index = alphabet.index(letter)\n",
    "            new_index = (index -1) % len(alphabet)\n",
    "            decryption += alphabet[new_index]\n",
    "\n",
    "        else:\n",
    "            decryption += letter\n",
    "\n",
    "    return decryption\n",
    "\n",
    "\n",
    "lösenord = input(\"Skriv in ett lösenord: \")\n",
    "val = input(\"Tryck 1 för kryptera:\\n\" \\\n",
    "\"Tryck 2 för att dekryptera\")\n",
    "\n",
    "if val == \"1\":\n",
    "    kryptera = kryptera(lösenord)\n",
    "    print(f\"{lösenord} blir {kryptera} efter kryptering!\")\n",
    "elif val == \"2\":\n",
    "    dekryptera =dekryptera(lösenord)\n",
    "    print(f\"{lösenord} blir {dekryptera} efter dekryptering!\")\n"
   ]
  },
  {
   "cell_type": "markdown",
   "metadata": {},
   "source": [
    "---\n",
    "\n",
    "pr0fez Giang\n",
    "\n",
    "[LinkedIn][linkedIn_pr0fez]\n",
    "\n",
    "[GitHub portfolio][github_portfolio]\n",
    "\n",
    "[linkedIn_pr0fez]: https://www.linkedin.com/in/pr0fezgiang/\n",
    "[github_portfolio]: https://github.com/pr0fez/Portfolio-pr0fez-Giang\n",
    "\n",
    "---"
   ]
  }
 ],
 "metadata": {
  "kernelspec": {
   "display_name": "Python 3",
   "language": "python",
   "name": "python3"
  },
  "language_info": {
   "codemirror_mode": {
    "name": "ipython",
    "version": 3
   },
   "file_extension": ".py",
   "mimetype": "text/x-python",
   "name": "python",
   "nbconvert_exporter": "python",
   "pygments_lexer": "ipython3",
   "version": "3.13.7"
  },
  "orig_nbformat": 4
 },
 "nbformat": 4,
 "nbformat_minor": 2
}

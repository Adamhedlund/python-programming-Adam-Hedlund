{
 "cells": [
  {
   "cell_type": "markdown",
   "metadata": {},
   "source": [
    "<a href=\"https://colab.research.google.com/github/pr0fez/AI24-Programmering/blob/master/Exercises/02-while-statement-exercise.ipynb\" target=\"_parent\"><img align=\"left\" src=\"https://colab.research.google.com/assets/colab-badge.svg\" alt=\"Open In Colab\"/></a> &nbsp; to see hints and answers."
   ]
  },
  {
   "cell_type": "markdown",
   "metadata": {},
   "source": [
    "# while statement exercises\n",
    "\n",
    "---\n",
    "These are introductory exercises in Python with focus in **while** statement.\n",
    "\n",
    "<p class = \"alert alert-info\" role=\"alert\"><b>Remember</b> to use <b>descriptive variable names</b> in order to get readable code </p>\n",
    "\n",
    "<p class = \"alert alert-info\" role=\"alert\"><b>Remember</b> to format your answers in a neat way using <b>f-strings</b>\n",
    "\n",
    "<p class = \"alert alert-info\" role=\"alert\"><b>Remember</b> to format your input questions in a pedagogical way to guide the user\n",
    "\n",
    "The number of stars (\\*), (\\*\\*), (\\*\\*\\*) denotes the difficulty level of the task\n",
    "\n",
    "---"
   ]
  },
  {
   "cell_type": "markdown",
   "metadata": {},
   "source": [
    "## 1. Count numbers (*)\n",
    "\n",
    "Use a **while** statement to count from -10 to 10 with one increment. \n",
    "\n",
    "<details>\n",
    "\n",
    "<summary>Hint </summary>\n",
    "\n",
    "```python\n",
    "\n",
    "i += 1 # adds one and assigns it to i, equivalent to i = i + 1\n",
    "```\n",
    "\n",
    "</details>\n",
    "<br>\n",
    "<details>\n",
    "\n",
    "<summary>Answer </summary>\n",
    "\n",
    "```\n",
    "\n",
    "-10 -9 -8 -7 -6 -5 -4 -3 -2 -1 0 1 2 3 4 5 6 7 8 9 10\n",
    "```\n",
    "\n",
    "</details>\n"
   ]
  },
  {
   "cell_type": "code",
   "execution_count": 4,
   "metadata": {},
   "outputs": [
    {
     "name": "stdout",
     "output_type": "stream",
     "text": [
      "-10 -9 -8 -7 -6 -5 -4 -3 -2 -1 0 1 2 3 4 5 6 7 8 9 "
     ]
    }
   ],
   "source": [
    "i = -10\n",
    "while i < 10:\n",
    "    print(f\"{i}\",end=\" \")\n",
    "    i +=1\n"
   ]
  },
  {
   "cell_type": "markdown",
   "metadata": {},
   "source": [
    "--- \n",
    "## 2. Arithmetic sum (*)\n",
    "Use a **while** statement to compute the following sums: \n",
    "\n",
    "&nbsp; a) &nbsp; $\\text{sum} = 1 + 2 + \\ldots + 99+ 100$\n",
    "\n",
    "&nbsp; b) &nbsp; $\\text{sum} = 1 + 3 + 5 + \\ldots + 97 + 99$\n",
    "\n",
    "<details>\n",
    "\n",
    "<summary>Answer </summary>\n",
    "\n",
    "```\n",
    "a) 1 + 2 + ... + 99 + 100 = 5050 \n",
    "\n",
    "b) 1 + 3 + 5 +...+ 97 + 99 = 2500\n",
    "```\n",
    "\n",
    "</details>"
   ]
  },
  {
   "cell_type": "code",
   "execution_count": 12,
   "metadata": {},
   "outputs": [
    {
     "name": "stdout",
     "output_type": "stream",
     "text": [
      "1+2+3+4+5+6+7+8+9+10+11+12+13+14+15+16+17+18+19+20+21+22+23+24+25+26+27+28+29+30+31+32+33+34+35+36+37+38+39+40+41+42+43+44+45+46+47+48+49+50+51+52+53+54+55+56+57+58+59+60+61+62+63+64+65+66+67+68+69+70+71+72+73+74+75+76+77+78+79+80+81+82+83+84+85+86+87+88+89+90+91+92+93+94+95+96+97+98+99+100+=5050\n",
      "1+3+5+7+9+11+13+15+17+19+21+23+25+27+29+31+33+35+37+39+41+43+45+47+49+51+53+55+57+59+61+63+65+67+69+71+73+75+77+79+81+83+85+87+89+91+93+95+97+99+=2500\n"
     ]
    }
   ],
   "source": [
    "#uppgift a\n",
    "i = 1\n",
    "total = 0\n",
    "while i <= 100:\n",
    "    total += i\n",
    "    print(f\"{i}\",end =\"+\")\n",
    "    i += 1\n",
    "\n",
    "print(f\"={total}\")\n",
    "\n",
    "#uppgift b\n",
    "a = 1\n",
    "total = 0\n",
    "while a <= 99:\n",
    "    total += a\n",
    "    print(f\"{a}\", end=\"+\")\n",
    "    a += 2\n",
    "\n",
    "print(f\"={total}\")"
   ]
  },
  {
   "cell_type": "markdown",
   "metadata": {},
   "source": [
    "--- \n",
    "## 3. Guess number game (*)\n",
    "&nbsp; a) &nbsp; Create a guessing number game following this flow chart: \n",
    "\n",
    "<img align=\"left\" src=\"../assets/guessing_game.png\" width=\"300\"/>"
   ]
  },
  {
   "cell_type": "code",
   "execution_count": 14,
   "metadata": {},
   "outputs": [
    {
     "name": "stdout",
     "output_type": "stream",
     "text": [
      "Talet är för högt!\n",
      "Talet är för högt!\n",
      "Talet är för lågt!\n",
      "Talet är för lågt!\n",
      "Talet är för lågt!\n",
      "Talet är för lågt!\n",
      "Grattis, du gissade talet på 7 försök.\n"
     ]
    }
   ],
   "source": [
    "import random\n",
    "number = random.randint(1,100)\n",
    "guesses = 0\n",
    "\n",
    "while True:\n",
    "    guess = int(input(\"Gissa på ett tal mellan 1 och 100: \"))\n",
    "    guesses += 1\n",
    "\n",
    "    if guess == number:\n",
    "        print(f\"Grattis, du gissade talet på {guesses} försök.\")\n",
    "        break\n",
    "    else:\n",
    "        if guess < number:\n",
    "            print(\"Talet är för lågt!\")\n",
    "        else:\n",
    "            print(\"Talet är för högt!\")\n"
   ]
  },
  {
   "cell_type": "markdown",
   "metadata": {},
   "source": [
    "&nbsp; b) &nbsp; Make an algorithm to automatically guess the correct number. Can you optimize to get as few guesses as possible? (**)\n",
    "\n",
    "<details>\n",
    "\n",
    "<summary>Hint </summary>\n",
    "\n",
    "&nbsp; b) &nbsp; Half your testing number each time \n",
    "\n",
    "</details>"
   ]
  },
  {
   "cell_type": "markdown",
   "metadata": {},
   "source": [
    "--- \n",
    "## 4. Multiplication game (*)\n",
    "&nbsp; a) &nbsp; Create a multiplication game following this flow chart: \n",
    "\n",
    "<img align=\"left\" src=\"../assets/Multiplication_game.png\" width=\"300\"/>"
   ]
  },
  {
   "cell_type": "code",
   "execution_count": 16,
   "metadata": {},
   "outputs": [
    {
     "name": "stdout",
     "output_type": "stream",
     "text": [
      "Det stämmer, 1 * 4 = 4\n",
      "Du har gissat rätt 1 gånger i rad. \n",
      "Det stämmer, 1 * 6 = 6\n",
      "Du har gissat rätt 2 gånger i rad. \n",
      "Tack för att du spelade!\n"
     ]
    }
   ],
   "source": [
    "import random\n",
    "score = 0\n",
    "\n",
    "while True:\n",
    "    x = random.randint(1,10)\n",
    "    y = random.randint(1,10)\n",
    "\n",
    "    total = x * y\n",
    "    \n",
    "    answer =int(input(f\"Vad är {x} * {y}? \"))\n",
    "    \n",
    "    if answer == total:\n",
    "        score += 1\n",
    "        print(f\"Det stämmer, {x} * {y} = {total}\")\n",
    "    else:\n",
    "        print(f\"Nej {answer} är fel. {x} * {y} = {total}\")\n",
    "        score = 0\n",
    "    \n",
    "    print(f\"Du har gissat rätt {score} gånger i rad. \")\n",
    "    \n",
    "    play_again = input(\"Vill du spela igen? j/n: \")\n",
    "\n",
    "    if play_again.lower() == \"n\":\n",
    "        print(\"Tack för att du spelade!\")\n",
    "        break\n"
   ]
  },
  {
   "cell_type": "code",
   "execution_count": null,
   "metadata": {},
   "outputs": [],
   "source": [
    "import random\n",
    "score = 0\n",
    "\n",
    "print(\"Välj svårighetsgrad: \")\n",
    "print(\"1 = Lätt (1-5)\")\n",
    "print(\"2 = Medel (1-10)\")\n",
    "print(\"3 = Svår (1-20)\")\n",
    " \n",
    "difficulty = int(input(\"Ditt val: \"))\n",
    "\n",
    "if difficulty == 1:\n",
    "    max_num = 5\n",
    "elif difficulty == 2:\n",
    "    max_num = 10\n",
    "elif difficulty == 3:\n",
    "    max_num = 20\n",
    "while True:\n",
    "    x = random.randint(1,max_num)\n",
    "    y = random.randint(1,max_num)\n",
    "\n",
    "    total = x * y\n",
    "    \n",
    "    answer =int(input(f\"Vad är {x} * {y}? \"))\n",
    "    \n",
    "    if answer == total:\n",
    "        score += 1\n",
    "        print(f\"Det stämmer, {x} * {y} = {total}\")\n",
    "    else:\n",
    "        print(f\"Nej {answer} är fel. {x} * {y} = {total}\")\n",
    "        score = 0\n",
    "    \n",
    "    print(f\"Du har gissat rätt {score} gånger i rad. \")\n",
    "    \n",
    "    play_again = input(\"Vill du spela igen? j/n: \")\n",
    "\n",
    "    if play_again.lower() == \"n\":\n",
    "        print(\"Tack för att du spelade!\")\n",
    "        break\n"
   ]
  },
  {
   "cell_type": "markdown",
   "metadata": {},
   "source": [
    "&nbsp; b) &nbsp; Add a menu for choosing difficulty level of the game\n",
    "\n",
    "&nbsp; c) &nbsp; Feel free to extend this program with features of your choice."
   ]
  },
  {
   "cell_type": "markdown",
   "metadata": {},
   "source": [
    "--- \n",
    "## 5. Check convergence (**)\n",
    "Use a while statement to compute the following sums: \n",
    "\n",
    "&nbsp; a) &nbsp; $\\text{sum} = 1 + \\frac{1}{2} + \\frac{1}{4} + \\frac{1}{8} + \\dots + \\frac{1}{2^n}$\n",
    "\n",
    "&nbsp; b) &nbsp; $\\text{sum} = 1 - \\frac{1}{3} + \\frac{1}{5} - \\frac{1}{7} + \\dots + \\frac{(-1)^n}{2n+1}$\n",
    "\n",
    "Try different values on $n$ to see which value it converges to.\n",
    "\n",
    "<details>\n",
    "\n",
    "<summary>Answer </summary>\n",
    "\n",
    "&nbsp; a) &nbsp; $1 + \\frac{1}{2} + \\frac{1}{4} + \\frac{1}{8} + \\dots + \\frac{1}{2^n} \\xrightarrow[n\\rightarrow \\infty]{} 2$ \n",
    "\n",
    "&nbsp; b) &nbsp; $ 1 - \\frac{1}{3} + \\frac{1}{5} - \\frac{1}{7} + \\dots + \\frac{(-1)^n}{2n+1} \\xrightarrow[n\\rightarrow \\infty]{} \\frac{\\pi}{4}$\n",
    "\n",
    "</details>"
   ]
  },
  {
   "cell_type": "markdown",
   "metadata": {},
   "source": [
    "---\n",
    "\n",
    "pr0fez Giang\n",
    "\n",
    "[LinkedIn][linkedIn_pr0fez]\n",
    "\n",
    "[GitHub portfolio][github_portfolio]\n",
    "\n",
    "[linkedIn_pr0fez]: https://www.linkedin.com/in/pr0fezgiang/\n",
    "[github_portfolio]: https://github.com/pr0fez/Portfolio-pr0fez-Giang\n",
    "\n",
    "---"
   ]
  }
 ],
 "metadata": {
  "kernelspec": {
   "display_name": "Python 3",
   "language": "python",
   "name": "python3"
  },
  "language_info": {
   "codemirror_mode": {
    "name": "ipython",
    "version": 3
   },
   "file_extension": ".py",
   "mimetype": "text/x-python",
   "name": "python",
   "nbconvert_exporter": "python",
   "pygments_lexer": "ipython3",
   "version": "3.13.7"
  },
  "orig_nbformat": 4
 },
 "nbformat": 4,
 "nbformat_minor": 2
}
